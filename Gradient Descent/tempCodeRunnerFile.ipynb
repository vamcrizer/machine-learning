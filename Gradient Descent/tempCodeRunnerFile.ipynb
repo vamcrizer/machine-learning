import matplotlib.pyplot as plt

# Dữ liệu từ Bảng 1
hieu_dien_the = [0, 0.5, 1.0, 1.5, 2.0, 2.5, 3.0, 3.5, 4.0, 4.5, 5.0, 6.0, 7.0, 8.0, 9.0, 10.0]
cuong_do_dong = [0, 0.1, 0.3, 0.6, 1.1, 1.7, 2.3, 2.8, 3.2, 3.5, 3.7, 3.8, 3.8, 3.8, 3.8, 3.8]

# Vẽ đồ thị
plt.figure(figsize=(8, 6))
plt.plot(hieu_dien_the, cuong_do_dong, marker='o')
plt.xlabel('Hiệu điện thế (V)', fontsize=14)
plt.ylabel('Cường độ dòng điện (nA)', fontsize=14)
plt.title('Đặc tuyến vôn-ampe của tế bào quang điện', fontsize=16)
plt.grid(True)
plt.show()