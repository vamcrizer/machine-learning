{
 "cells": [
  {
   "cell_type": "code",
   "execution_count": 4,
   "metadata": {},
   "outputs": [
    {
     "name": "stdout",
     "output_type": "stream",
     "text": [
      "Đã tạo 3 file test.\n"
     ]
    }
   ],
   "source": [
    "import random\n",
    "import os\n",
    "\n",
    "def generate_test_files(num_files):\n",
    "    for i in range(1, num_files + 1):\n",
    "        # Generate a random number of test cases (t)\n",
    "        t = random.randint(1, 3)\n",
    "        \n",
    "        # Open a new file to write the test cases\n",
    "        with open(f'test_file_{i}.txt', 'w') as file:\n",
    "            file.write(f'{t}\\n')\n",
    "            \n",
    "            for _ in range(t):\n",
    "                # Generate a random number of elements in the array (n)\n",
    "                n = random.randint(1, 50)\n",
    "                file.write(f'{n}\\n')\n",
    "                \n",
    "                # Generate n random elements in the array\n",
    "                array = [random.randint(1, 10) for _ in range(n)]\n",
    "                file.write(' '.join(map(str, array)) + '\\n')\n",
    "\n",
    "if __name__ == \"__main__\":\n",
    "    num_files = int(input(\"Nhập số file muốn tạo: \"))\n",
    "    generate_test_files(num_files)\n",
    "    print(f\"Đã tạo {num_files} file test.\")"
   ]
  }
 ],
 "metadata": {
  "kernelspec": {
   "display_name": "Python 3",
   "language": "python",
   "name": "python3"
  },
  "language_info": {
   "codemirror_mode": {
    "name": "ipython",
    "version": 3
   },
   "file_extension": ".py",
   "mimetype": "text/x-python",
   "name": "python",
   "nbconvert_exporter": "python",
   "pygments_lexer": "ipython3",
   "version": "3.10.0"
  }
 },
 "nbformat": 4,
 "nbformat_minor": 2
}
